{
  "nbformat": 4,
  "nbformat_minor": 0,
  "metadata": {
    "colab": {
      "provenance": [],
      "authorship_tag": "ABX9TyMJFG+kgBm4y73bbYrAbJPf",
      "include_colab_link": true
    },
    "kernelspec": {
      "name": "python3",
      "display_name": "Python 3"
    },
    "language_info": {
      "name": "python"
    }
  },
  "cells": [
    {
      "cell_type": "markdown",
      "metadata": {
        "id": "view-in-github",
        "colab_type": "text"
      },
      "source": [
        "<a href=\"https://colab.research.google.com/github/31-10-05/Machine-Learning-Projects-on-Time-Series-Forecasting/blob/main/ltsm_project.ipynb\" target=\"_parent\"><img src=\"https://colab.research.google.com/assets/colab-badge.svg\" alt=\"Open In Colab\"/></a>"
      ]
    },
    {
      "cell_type": "code",
      "execution_count": null,
      "metadata": {
        "id": "9hchsa7JABmy"
      },
      "outputs": [],
      "source": [
        "import numpy\n",
        "import matplotlib.pyplot as plt\n",
        "import pandas\n",
        "import math\n",
        "from keras.models import Sequential\n",
        "from keras.layers import Dense\n",
        "from keras.layers import LSTM\n",
        "from sklearn.preprocessing import MinMaxScaler\n",
        "from sklearn.metrics import mean_squared_error\n",
        "#fix random seed for reproducibilty\n",
        "numpy.random.seed(7)\n",
        "\n",
        "#load the dataset\n",
        "dataframe = pandas.read_csv('/content/airline-passengers.csv', usecols = [1], engine = 'python')\n",
        "dataset = dataframe.values\n",
        "dataset = dataset.astype('float32')\n",
        "\n",
        "#normalise the dataset\n",
        "scaler = MinMaxScaler(feature_range = (0,1))\n",
        "dataset = scaler.fit_transform(dataset)\n",
        "\n",
        "#split into train and test sets\n",
        "train_size = int(len(dataset)*0.67)\n",
        "test_size = len(dataset) - train_size\n",
        "train, test = dataset[0:train_size,:],dataset[train_size:len(dataset),:]\n",
        "print(len(train),len(test))\n",
        "\n",
        "#convert an array of values into a dataset matrix\n",
        "def create_dataset(dataset, look_back = 1):\n",
        "  dataX, dataY = [],[]\n",
        "  for i in range (len(dataset)-look_back-1):\n",
        "    a = dataset[i:(i+look_back), 0]\n",
        "    dataX.append(a)\n",
        "    dataY.append(dataset[i + look_back, 0])\n",
        "  return numpy.array(dataX), numpy.array(dataY)\n",
        "\n",
        "#reshape into X=t and Y= t+1\n",
        "look_back = 1\n",
        "trainX, trainY = create_dataset(train, look_back)\n",
        "testX, testY = create_dataset(test, look_back)\n",
        "\n",
        "#reshape input to be [sample, time steps, features]\n",
        "trainX = numpy.reshape(trainX, (trainX.shape[0], 1, trainX.shape[1]))\n",
        "testX = numpy.reshape(testX, (testX.shape[0], 1, testX.shape[1]))\n",
        "\n",
        "#create and fit the LTSM network\n",
        "model = Sequential()\n",
        "model.add(LSTM(4, input_shape = (1, look_back)))\n",
        "model.add(Dense(1))\n",
        "model.compile(loss = 'mean_squared_error', optimizer = 'adam')\n",
        "model.fit(trainX, trainY, epochs = 100, batch_size = 1, verbose = 2)\n",
        "\n",
        "#make predictions\n",
        "trainPredict = model.predict(trainX)\n",
        "testPredict = model.predict(testX)\n",
        "\n",
        "#invert predictions\n",
        "trainPredict = scaler.inverse_transform(trainPredict)\n",
        "trainY = scaler.inverse_transform([trainY])\n",
        "testPredict = scaler.inverse_transform(testPredict)\n",
        "testY = scaler.inverse_transform([testY])\n",
        "\n",
        "#calculate root mean squared error\n",
        "trainScore = math.sqrt(mean_squared_error(trainY[0], trainPredict[:,0]))\n",
        "testScore = math.sqrt(mean_squared_error(testY[0], testPredict[:,0]))\n",
        "\n",
        "#shift train predictions for plotting\n",
        "trainPredictPlot = numpy.empty_like(dataset)\n",
        "trainPredictPlot[:, :] = numpy.nan\n",
        "trainPredictPlot[look_back:len(trainPredict)+look_back, :] = trainPredict\n",
        "\n",
        "#shift test predictions for plotting\n",
        "testPredictPlot = numpy.empty_like(dataset)\n",
        "testPredictPlot[:, :] = numpy.nan\n",
        "testPredictPlot[len(trainPredict)+(look_back*2)+1:len(dataset)-1, :] = testPredict\n",
        "\n",
        "#plot baseline and predictions\n",
        "plt.plot(scaler.inverse_transform(dataset))\n",
        "plt.plot(trainPredictPlot)\n",
        "plt.plot(testPredictPlot)\n",
        "plt.show()"
      ]
    }
  ]
}